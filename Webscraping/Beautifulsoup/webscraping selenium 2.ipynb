{
 "cells": [
  {
   "cell_type": "code",
   "execution_count": null,
   "id": "8e02b574-7f5f-45d6-a130-f5779f8e2bd1",
   "metadata": {},
   "outputs": [],
   "source": [
    "# ans-1"
   ]
  },
  {
   "cell_type": "code",
   "execution_count": 1,
   "id": "9d5ac6fb-4c9f-49dc-bf20-79585978a8a0",
   "metadata": {},
   "outputs": [
    {
     "name": "stdout",
     "output_type": "stream",
     "text": [
      "Requirement already satisfied: selenium in c:\\programdata\\anaconda3\\lib\\site-packages (4.25.0)\n",
      "Requirement already satisfied: urllib3<3,>=1.26 in c:\\programdata\\anaconda3\\lib\\site-packages (from urllib3[socks]<3,>=1.26->selenium) (2.0.7)\n",
      "Requirement already satisfied: trio~=0.17 in c:\\programdata\\anaconda3\\lib\\site-packages (from selenium) (0.26.2)\n",
      "Requirement already satisfied: trio-websocket~=0.9 in c:\\programdata\\anaconda3\\lib\\site-packages (from selenium) (0.11.1)\n",
      "Requirement already satisfied: certifi>=2021.10.8 in c:\\programdata\\anaconda3\\lib\\site-packages (from selenium) (2024.2.2)\n",
      "Requirement already satisfied: typing_extensions~=4.9 in c:\\programdata\\anaconda3\\lib\\site-packages (from selenium) (4.9.0)\n",
      "Requirement already satisfied: websocket-client~=1.8 in c:\\programdata\\anaconda3\\lib\\site-packages (from selenium) (1.8.0)\n",
      "Requirement already satisfied: attrs>=23.2.0 in c:\\programdata\\anaconda3\\lib\\site-packages (from trio~=0.17->selenium) (24.2.0)\n",
      "Requirement already satisfied: sortedcontainers in c:\\programdata\\anaconda3\\lib\\site-packages (from trio~=0.17->selenium) (2.4.0)\n",
      "Requirement already satisfied: idna in c:\\programdata\\anaconda3\\lib\\site-packages (from trio~=0.17->selenium) (3.4)\n",
      "Requirement already satisfied: outcome in c:\\programdata\\anaconda3\\lib\\site-packages (from trio~=0.17->selenium) (1.3.0.post0)\n",
      "Requirement already satisfied: sniffio>=1.3.0 in c:\\programdata\\anaconda3\\lib\\site-packages (from trio~=0.17->selenium) (1.3.0)\n",
      "Requirement already satisfied: cffi>=1.14 in c:\\programdata\\anaconda3\\lib\\site-packages (from trio~=0.17->selenium) (1.16.0)\n",
      "Requirement already satisfied: wsproto>=0.14 in c:\\programdata\\anaconda3\\lib\\site-packages (from trio-websocket~=0.9->selenium) (1.2.0)\n",
      "Requirement already satisfied: pysocks!=1.5.7,<2.0,>=1.5.6 in c:\\programdata\\anaconda3\\lib\\site-packages (from urllib3[socks]<3,>=1.26->selenium) (1.7.1)\n",
      "Requirement already satisfied: pycparser in c:\\programdata\\anaconda3\\lib\\site-packages (from cffi>=1.14->trio~=0.17->selenium) (2.21)\n",
      "Requirement already satisfied: h11<1,>=0.9.0 in c:\\programdata\\anaconda3\\lib\\site-packages (from wsproto>=0.14->trio-websocket~=0.9->selenium) (0.14.0)\n"
     ]
    }
   ],
   "source": [
    "!pip install selenium"
   ]
  },
  {
   "cell_type": "code",
   "execution_count": 3,
   "id": "90beb6d3-3cb7-4bac-bb17-b7f12bccfcae",
   "metadata": {},
   "outputs": [],
   "source": [
    "import selenium\n",
    "import pandas as pd\n",
    "from selenium import webdriver\n",
    "import warnings\n",
    "warnings.filterwarnings('ignore')\n",
    "from selenium.webdriver.common.by import By\n",
    "import time"
   ]
  },
  {
   "cell_type": "code",
   "execution_count": 4,
   "id": "915549da-0485-498f-bd61-b4a59ae38728",
   "metadata": {},
   "outputs": [],
   "source": [
    "driver = webdriver.Chrome()"
   ]
  },
  {
   "cell_type": "code",
   "execution_count": 5,
   "id": "dc640717-d39e-4a0c-ae61-ced135c6b809",
   "metadata": {},
   "outputs": [],
   "source": [
    "driver.get(\"https://www.naukri.com/\")"
   ]
  },
  {
   "cell_type": "code",
   "execution_count": 6,
   "id": "c6e125b5-6b32-435f-9a2c-ea151c0c2513",
   "metadata": {},
   "outputs": [],
   "source": [
    "# entiring designation and location as required in the question\n",
    "designation = driver.find_element(By.CLASS_NAME,\"suggestor-input\")"
   ]
  },
  {
   "cell_type": "code",
   "execution_count": 7,
   "id": "b26e4352-09fa-41c8-b24c-58550c6ec8c5",
   "metadata": {},
   "outputs": [],
   "source": [
    "designation.send_keys('Data Scientist')"
   ]
  },
  {
   "cell_type": "code",
   "execution_count": 8,
   "id": "5d690cfe-a037-4f70-a939-39f9907dfcd6",
   "metadata": {},
   "outputs": [],
   "source": [
    "# click search on the related to designation.\n",
    "search = driver.find_element(By.CLASS_NAME,\"qsbSubmit\")\n",
    "search.click()"
   ]
  },
  {
   "cell_type": "code",
   "execution_count": 10,
   "id": "705ba192-58ec-4ece-a326-f8d40d1d0202",
   "metadata": {},
   "outputs": [],
   "source": [
    "# click salary range 3-6 lakhs in filter\n",
    "salary_filter = driver.find_element(By.XPATH,'//span[@title=\"3-6 Lakhs\"]').click()"
   ]
  },
  {
   "cell_type": "code",
   "execution_count": 11,
   "id": "930b1769-911c-48ff-b91d-4a03ba0d97ab",
   "metadata": {},
   "outputs": [],
   "source": [
    "# click location delhi/ncr lakhs in filter\n",
    "filter_location = driver.find_element(By.XPATH,'//span[@title=\"Delhi / NCR\"]').click()"
   ]
  },
  {
   "cell_type": "code",
   "execution_count": 12,
   "id": "310de29e-4ad7-4275-8138-bd59676b24f9",
   "metadata": {},
   "outputs": [],
   "source": [
    "# here create a lists job_title, job_location, company_name, experience_required.\n",
    "job_title = []\n",
    "job_location = []\n",
    "company_name = []\n",
    "experience_required = []"
   ]
  },
  {
   "cell_type": "code",
   "execution_count": 26,
   "id": "749dece6-728d-49a3-b95f-3403db0f058b",
   "metadata": {},
   "outputs": [],
   "source": [
    "# scrap job_title from naukri.com page.\n",
    "job_tags = driver.find_elements(By.XPATH,'//a[@rel=\"noopener noreferrer\"]')\n",
    "for i in job_tags[0:10]:\n",
    "    title = i.text.strip()\n",
    "    job_title.append(title)\n",
    "    \n",
    "# scrap job_location\n",
    "location_tags = driver.find_elements(By.XPATH,'//span[@class=\"locWdth\"]')\n",
    "for i in location_tags[0:10]:\n",
    "    location = i.text\n",
    "    job_location.append(location)\n",
    "\n",
    "# scrap company name\n",
    "company_tags = driver.find_elements(By.XPATH,'//a[@class=\" comp-name mw-25\"]')\n",
    "for i in company_tags[0:10]:\n",
    "    company = i.text\n",
    "    company_name.append(company)\n",
    "\n",
    "# scrap experience required\n",
    "experience_tags = driver.find_elements(By.XPATH,'//span[@class=\"expwdth\"]')\n",
    "for i in experience_tags[0:10]:\n",
    "    experience = i.text\n",
    "    experience_required.append(experience)\n",
    "    "
   ]
  },
  {
   "cell_type": "code",
   "execution_count": 15,
   "id": "6820fc8b-8285-4570-93c3-c59c2aeecb4b",
   "metadata": {},
   "outputs": [
    {
     "data": {
      "text/plain": [
       "['Data Scientist',\n",
       " 'Data Scientist',\n",
       " 'Data Scientist: Artificial Intelligence',\n",
       " 'Data Scientist',\n",
       " 'Data Scientist',\n",
       " 'Data Scientist',\n",
       " 'Data Scientist',\n",
       " 'Data Scientist',\n",
       " 'Data Scientist',\n",
       " 'Data Scientist',\n",
       " 'Data Scientist',\n",
       " 'Data Scientist',\n",
       " 'Data Scientist: Artificial Intelligence',\n",
       " 'Data Scientist',\n",
       " 'Data Scientist',\n",
       " 'Data Scientist',\n",
       " 'Data Scientist',\n",
       " 'Data Scientist',\n",
       " 'Data Scientist',\n",
       " 'Data Scientist']"
      ]
     },
     "execution_count": 15,
     "metadata": {},
     "output_type": "execute_result"
    }
   ],
   "source": [
    "job_title"
   ]
  },
  {
   "cell_type": "code",
   "execution_count": 16,
   "id": "90359cdf-30e9-42a5-9f60-8bad884cc2a0",
   "metadata": {},
   "outputs": [
    {
     "data": {
      "text/plain": [
       "['Jaipur, Delhi / NCR',\n",
       " 'Saudi Arabia',\n",
       " 'Pune',\n",
       " 'Pune',\n",
       " 'Bengaluru',\n",
       " 'Bengaluru',\n",
       " 'Remote',\n",
       " 'Hyderabad',\n",
       " 'Bengaluru',\n",
       " 'Chennai',\n",
       " 'Jaipur, Delhi / NCR',\n",
       " 'Saudi Arabia',\n",
       " 'Pune',\n",
       " 'Pune',\n",
       " 'Bengaluru',\n",
       " 'Bengaluru',\n",
       " 'Remote',\n",
       " 'Hyderabad',\n",
       " 'Bengaluru',\n",
       " 'Chennai']"
      ]
     },
     "execution_count": 16,
     "metadata": {},
     "output_type": "execute_result"
    }
   ],
   "source": [
    "job_location"
   ]
  },
  {
   "cell_type": "code",
   "execution_count": 17,
   "id": "416763e2-b971-45e2-9f1d-5896da4e2576",
   "metadata": {},
   "outputs": [
    {
     "data": {
      "text/plain": [
       "['Royal Cyber',\n",
       " 'IBM',\n",
       " 'Global Pharma Tek',\n",
       " 'Kmart',\n",
       " 'KAS Services',\n",
       " 'Rarr Technologies',\n",
       " 'Sanofi',\n",
       " 'Enterprise Bot',\n",
       " 'Hexacorp Technical Services',\n",
       " 'Global Pharma Tek',\n",
       " 'Royal Cyber',\n",
       " 'IBM',\n",
       " 'Global Pharma Tek',\n",
       " 'Kmart',\n",
       " 'KAS Services',\n",
       " 'Rarr Technologies',\n",
       " 'Sanofi',\n",
       " 'Enterprise Bot',\n",
       " 'Hexacorp Technical Services',\n",
       " 'Global Pharma Tek']"
      ]
     },
     "execution_count": 17,
     "metadata": {},
     "output_type": "execute_result"
    }
   ],
   "source": [
    "company_name"
   ]
  },
  {
   "cell_type": "code",
   "execution_count": 27,
   "id": "39b38727-470e-4507-91a8-ca10e71f0c38",
   "metadata": {},
   "outputs": [
    {
     "data": {
      "text/plain": [
       "['4-9 Yrs',\n",
       " '8-13 Yrs',\n",
       " '5-7 Yrs',\n",
       " '5-10 Yrs',\n",
       " '3-7 Yrs',\n",
       " '3-5 Yrs',\n",
       " '14-20 Yrs',\n",
       " '2-5 Yrs',\n",
       " '2-3 Yrs',\n",
       " '6-10 Yrs',\n",
       " '4-9 Yrs',\n",
       " '8-13 Yrs',\n",
       " '5-7 Yrs',\n",
       " '5-10 Yrs',\n",
       " '3-7 Yrs',\n",
       " '3-5 Yrs',\n",
       " '14-20 Yrs',\n",
       " '2-5 Yrs',\n",
       " '2-3 Yrs',\n",
       " '6-10 Yrs']"
      ]
     },
     "execution_count": 27,
     "metadata": {},
     "output_type": "execute_result"
    }
   ],
   "source": [
    "experience_required"
   ]
  },
  {
   "cell_type": "code",
   "execution_count": null,
   "id": "1bb9d64c-6a01-452e-a17a-935260681bc4",
   "metadata": {},
   "outputs": [],
   "source": []
  },
  {
   "cell_type": "code",
   "execution_count": null,
   "id": "90844878-ff98-41b4-8b0e-37879cea085f",
   "metadata": {},
   "outputs": [],
   "source": [
    "df = pd.DataFrame({'job title':job_title,'job location':job_location,'company name':company_name,'experience required':experience_required})\n",
    "df"
   ]
  },
  {
   "cell_type": "code",
   "execution_count": null,
   "id": "5c505c5d-d610-4374-9123-afd2186fa2fb",
   "metadata": {},
   "outputs": [],
   "source": []
  },
  {
   "cell_type": "markdown",
   "id": "2b0e657d-d01d-46ca-92f4-62570c6e942c",
   "metadata": {},
   "source": [
    "# ans- 2"
   ]
  },
  {
   "cell_type": "code",
   "execution_count": 31,
   "id": "7dd7a5fd-57eb-43be-845a-169ac7c1d083",
   "metadata": {},
   "outputs": [],
   "source": [
    "import selenium\n",
    "import pandas as pd\n",
    "from selenium import webdriver\n",
    "import warnings\n",
    "warnings.filterwarnings('ignore')\n",
    "from selenium.webdriver.common.by import By\n",
    "import time\n"
   ]
  },
  {
   "cell_type": "code",
   "execution_count": 38,
   "id": "0051ff65-3fcc-4410-9823-1786573cb53d",
   "metadata": {},
   "outputs": [],
   "source": [
    "# open the web page chrome.\n",
    "driver = webdriver.Chrome()"
   ]
  },
  {
   "cell_type": "code",
   "execution_count": 39,
   "id": "004b5201-4a39-4aa4-9a67-77b8f8c3d154",
   "metadata": {},
   "outputs": [],
   "source": [
    "#open the web page shine.\n",
    "driver.get(\"https://www.shine.com/\")"
   ]
  },
  {
   "cell_type": "code",
   "execution_count": 43,
   "id": "a4d87906-6a26-45b6-87f4-cdf40e90dff2",
   "metadata": {},
   "outputs": [],
   "source": [
    "# enter \"data analyst\" in job title, skills, field\n",
    "destignation = driver.find_element(By.CLASS_NAME,\"form-control  \")\n",
    "destignation.send_keys(\"Data Analyst\")"
   ]
  },
  {
   "cell_type": "code",
   "execution_count": 44,
   "id": "794b3a2a-2117-415a-8c63-391949bc1e25",
   "metadata": {},
   "outputs": [],
   "source": [
    "# enter banglore in location feild\n",
    "location = driver.find_element(By.XPATH,'/html/body/div/div[4]/div/div[2]/div[2]/div/form/div/div[1]/ul/li[2]/div/input')\n",
    "location.send_keys('Bangalore')"
   ]
  },
  {
   "cell_type": "code",
   "execution_count": 45,
   "id": "d827d846-aced-441a-bd2c-5596498883a4",
   "metadata": {},
   "outputs": [],
   "source": [
    "# search according to above condition.\n",
    "search = driver.find_element(By.CLASS_NAME,\"searchForm_btnWrap_advance__VYBHN\")\n",
    "search.click()"
   ]
  },
  {
   "cell_type": "code",
   "execution_count": 46,
   "id": "19503f78-0dbf-4502-8747-e4c36e7fbcf1",
   "metadata": {},
   "outputs": [],
   "source": [
    "# create lists for filling information\n",
    "job_title = []\n",
    "job_location = []\n",
    "company_name = []\n",
    "experience_required = []"
   ]
  },
  {
   "cell_type": "code",
   "execution_count": 47,
   "id": "24d8241c-2ea9-41b9-b2c6-d47d34390135",
   "metadata": {},
   "outputs": [],
   "source": [
    "# scrap first 10 job title\n",
    "job_tags = driver.find_elements(By.XPATH,'//div[@class=\"jobCard_jobCard_cName__mYnow\"]')\n",
    "for i in job_tags[0:10]:\n",
    "    title = i.text.strip()\n",
    "    job_title.append(title)\n",
    "\n",
    "# scrap first10 location\n",
    "location_tags = driver.find_elements(By.XPATH,'//div[@class=\"jobCard_jobCard_lists_item__YxRkV jobCard_locationIcon__zrWt2\"]')\n",
    "for i in location_tags[0:10]:\n",
    "    location = i.text.replace('\\n+8','')\n",
    "    job_location.append(location)\n",
    "\n",
    "# scrap first 10 company name\n",
    "company_tags = driver.find_elements(By.XPATH,'//div[@class=\"jobCard_jobCard_cName__mYnow\"]')\n",
    "for i in company_tags[0:10]:\n",
    "    company = i.text\n",
    "    company_name.append(company)\n",
    "\n",
    "# scrap first 10 experience required from shine page\n",
    "experience_tags = driver.find_elements(By.XPATH,'//div[@class=\" jobCard_jobCard_lists_item__YxRkV jobCard_jobIcon__3FB1t\"]')\n",
    "for i in experience_tags[0:10]:\n",
    "    experience = i.text\n",
    "    experience_required.append(experience)\n",
    "                                       "
   ]
  },
  {
   "cell_type": "code",
   "execution_count": 48,
   "id": "8e391cdf-1d00-48ae-bfe3-9b9d97bb5888",
   "metadata": {},
   "outputs": [
    {
     "data": {
      "text/plain": [
       "['team hr gsa private limited',\n",
       " 'oksana enterprises',\n",
       " 'alphacom systems and solutions pvt ...',\n",
       " 'green clover',\n",
       " 'tech turmeric it services llp hirin...',\n",
       " 'shaik mohammed kaif hiring for nexg...',\n",
       " 'sunil kumar',\n",
       " 'flexi ventures pvt. ltd.',\n",
       " 'hdfc ergo general insurance company...',\n",
       " 'd2d careers pvt ltd']"
      ]
     },
     "execution_count": 48,
     "metadata": {},
     "output_type": "execute_result"
    }
   ],
   "source": [
    "job_title"
   ]
  },
  {
   "cell_type": "code",
   "execution_count": 49,
   "id": "d94cbf36-b70d-45cd-903c-0b40828045d5",
   "metadata": {},
   "outputs": [
    {
     "data": {
      "text/plain": [
       "['Bangalore',\n",
       " 'Hyderabad',\n",
       " 'Bangalore\\n+1',\n",
       " 'Mumbai City',\n",
       " 'Mumbai City',\n",
       " 'Bangalore\\n+9',\n",
       " 'Bangalore\\n+5',\n",
       " 'Hyderabad\\n+2',\n",
       " 'Kolkata',\n",
       " 'Bangalore\\n+1']"
      ]
     },
     "execution_count": 49,
     "metadata": {},
     "output_type": "execute_result"
    }
   ],
   "source": [
    "job_location"
   ]
  },
  {
   "cell_type": "code",
   "execution_count": 50,
   "id": "bf291d66-e552-4931-b64b-79c08806d408",
   "metadata": {},
   "outputs": [
    {
     "data": {
      "text/plain": [
       "['team hr gsa private limited',\n",
       " 'oksana enterprises',\n",
       " 'alphacom systems and solutions pvt ...',\n",
       " 'green clover',\n",
       " 'tech turmeric it services llp hirin...',\n",
       " 'shaik mohammed kaif hiring for nexg...',\n",
       " 'sunil kumar',\n",
       " 'flexi ventures pvt. ltd.',\n",
       " 'hdfc ergo general insurance company...',\n",
       " 'd2d careers pvt ltd']"
      ]
     },
     "execution_count": 50,
     "metadata": {},
     "output_type": "execute_result"
    }
   ],
   "source": [
    "company_name"
   ]
  },
  {
   "cell_type": "code",
   "execution_count": 51,
   "id": "2f12b615-8ae5-4909-8026-b63fd666742b",
   "metadata": {},
   "outputs": [
    {
     "data": {
      "text/plain": [
       "['0 to 1 Yr',\n",
       " '5 to 10 Yrs',\n",
       " '5 to 8 Yrs',\n",
       " '2 to 7 Yrs',\n",
       " '1 to 3 Yrs',\n",
       " '0 Yrs',\n",
       " '2 to 7 Yrs',\n",
       " '1 to 3 Yrs',\n",
       " '0 to 3 Yrs',\n",
       " '1 to 5 Yrs']"
      ]
     },
     "execution_count": 51,
     "metadata": {},
     "output_type": "execute_result"
    }
   ],
   "source": [
    "experience_required"
   ]
  },
  {
   "cell_type": "code",
   "execution_count": 52,
   "id": "1d75b2f4-d247-42ca-8f16-828287613196",
   "metadata": {},
   "outputs": [],
   "source": [
    "# create data frame scrap the data for the 10 job results \n",
    "df = pd.DataFrame({'job title':job_title,'job location':job_location,'company name':company_name,'experience required':experience_required})\n"
   ]
  },
  {
   "cell_type": "code",
   "execution_count": 53,
   "id": "4cd17df0-4b44-40f4-9a10-38e140cfa757",
   "metadata": {},
   "outputs": [
    {
     "data": {
      "text/html": [
       "<div>\n",
       "<style scoped>\n",
       "    .dataframe tbody tr th:only-of-type {\n",
       "        vertical-align: middle;\n",
       "    }\n",
       "\n",
       "    .dataframe tbody tr th {\n",
       "        vertical-align: top;\n",
       "    }\n",
       "\n",
       "    .dataframe thead th {\n",
       "        text-align: right;\n",
       "    }\n",
       "</style>\n",
       "<table border=\"1\" class=\"dataframe\">\n",
       "  <thead>\n",
       "    <tr style=\"text-align: right;\">\n",
       "      <th></th>\n",
       "      <th>job title</th>\n",
       "      <th>job location</th>\n",
       "      <th>company name</th>\n",
       "      <th>experience required</th>\n",
       "    </tr>\n",
       "  </thead>\n",
       "  <tbody>\n",
       "    <tr>\n",
       "      <th>0</th>\n",
       "      <td>team hr gsa private limited</td>\n",
       "      <td>Bangalore</td>\n",
       "      <td>team hr gsa private limited</td>\n",
       "      <td>0 to 1 Yr</td>\n",
       "    </tr>\n",
       "    <tr>\n",
       "      <th>1</th>\n",
       "      <td>oksana enterprises</td>\n",
       "      <td>Hyderabad</td>\n",
       "      <td>oksana enterprises</td>\n",
       "      <td>5 to 10 Yrs</td>\n",
       "    </tr>\n",
       "    <tr>\n",
       "      <th>2</th>\n",
       "      <td>alphacom systems and solutions pvt ...</td>\n",
       "      <td>Bangalore\\n+1</td>\n",
       "      <td>alphacom systems and solutions pvt ...</td>\n",
       "      <td>5 to 8 Yrs</td>\n",
       "    </tr>\n",
       "    <tr>\n",
       "      <th>3</th>\n",
       "      <td>green clover</td>\n",
       "      <td>Mumbai City</td>\n",
       "      <td>green clover</td>\n",
       "      <td>2 to 7 Yrs</td>\n",
       "    </tr>\n",
       "    <tr>\n",
       "      <th>4</th>\n",
       "      <td>tech turmeric it services llp hirin...</td>\n",
       "      <td>Mumbai City</td>\n",
       "      <td>tech turmeric it services llp hirin...</td>\n",
       "      <td>1 to 3 Yrs</td>\n",
       "    </tr>\n",
       "    <tr>\n",
       "      <th>5</th>\n",
       "      <td>shaik mohammed kaif hiring for nexg...</td>\n",
       "      <td>Bangalore\\n+9</td>\n",
       "      <td>shaik mohammed kaif hiring for nexg...</td>\n",
       "      <td>0 Yrs</td>\n",
       "    </tr>\n",
       "    <tr>\n",
       "      <th>6</th>\n",
       "      <td>sunil kumar</td>\n",
       "      <td>Bangalore\\n+5</td>\n",
       "      <td>sunil kumar</td>\n",
       "      <td>2 to 7 Yrs</td>\n",
       "    </tr>\n",
       "    <tr>\n",
       "      <th>7</th>\n",
       "      <td>flexi ventures pvt. ltd.</td>\n",
       "      <td>Hyderabad\\n+2</td>\n",
       "      <td>flexi ventures pvt. ltd.</td>\n",
       "      <td>1 to 3 Yrs</td>\n",
       "    </tr>\n",
       "    <tr>\n",
       "      <th>8</th>\n",
       "      <td>hdfc ergo general insurance company...</td>\n",
       "      <td>Kolkata</td>\n",
       "      <td>hdfc ergo general insurance company...</td>\n",
       "      <td>0 to 3 Yrs</td>\n",
       "    </tr>\n",
       "    <tr>\n",
       "      <th>9</th>\n",
       "      <td>d2d careers pvt ltd</td>\n",
       "      <td>Bangalore\\n+1</td>\n",
       "      <td>d2d careers pvt ltd</td>\n",
       "      <td>1 to 5 Yrs</td>\n",
       "    </tr>\n",
       "  </tbody>\n",
       "</table>\n",
       "</div>"
      ],
      "text/plain": [
       "                                job title   job location  \\\n",
       "0             team hr gsa private limited      Bangalore   \n",
       "1                      oksana enterprises      Hyderabad   \n",
       "2  alphacom systems and solutions pvt ...  Bangalore\\n+1   \n",
       "3                            green clover    Mumbai City   \n",
       "4  tech turmeric it services llp hirin...    Mumbai City   \n",
       "5  shaik mohammed kaif hiring for nexg...  Bangalore\\n+9   \n",
       "6                             sunil kumar  Bangalore\\n+5   \n",
       "7                flexi ventures pvt. ltd.  Hyderabad\\n+2   \n",
       "8  hdfc ergo general insurance company...        Kolkata   \n",
       "9                     d2d careers pvt ltd  Bangalore\\n+1   \n",
       "\n",
       "                             company name experience required  \n",
       "0             team hr gsa private limited           0 to 1 Yr  \n",
       "1                      oksana enterprises         5 to 10 Yrs  \n",
       "2  alphacom systems and solutions pvt ...          5 to 8 Yrs  \n",
       "3                            green clover          2 to 7 Yrs  \n",
       "4  tech turmeric it services llp hirin...          1 to 3 Yrs  \n",
       "5  shaik mohammed kaif hiring for nexg...               0 Yrs  \n",
       "6                             sunil kumar          2 to 7 Yrs  \n",
       "7                flexi ventures pvt. ltd.          1 to 3 Yrs  \n",
       "8  hdfc ergo general insurance company...          0 to 3 Yrs  \n",
       "9                     d2d careers pvt ltd          1 to 5 Yrs  "
      ]
     },
     "execution_count": 53,
     "metadata": {},
     "output_type": "execute_result"
    }
   ],
   "source": [
    "df"
   ]
  },
  {
   "cell_type": "markdown",
   "id": "9050e60f-9816-4e48-b0e3-56a9b6766d06",
   "metadata": {},
   "source": [
    "# ans.3"
   ]
  },
  {
   "cell_type": "code",
   "execution_count": 54,
   "id": "2981ae0a-f2c9-436d-9fbc-4d1fca6a3c04",
   "metadata": {},
   "outputs": [],
   "source": [
    "import selenium\n",
    "import pandas as pd\n",
    "from selenium import webdriver\n",
    "import warnings\n",
    "warnings.filterwarnings('ignore')\n",
    "from selenium.webdriver.common.by import By\n",
    "import time"
   ]
  },
  {
   "cell_type": "code",
   "execution_count": 55,
   "id": "ed47506b-4dc9-4628-b68a-39b384f02355",
   "metadata": {},
   "outputs": [],
   "source": [
    "# scrap data from link  :-https://www.flipkart.com/apple-iphone-11-black-64-gb/product-reviews/itm4e5041ba101fd?pid=MOBFWQ6BXGJCEYNY&lid=LSTMOBFWQ6BXGJCEYNYZXSHRJ&marketplace=FLI"
   ]
  },
  {
   "cell_type": "code",
   "execution_count": 60,
   "id": "73f9a382-7807-4589-ab54-a834241eeb5b",
   "metadata": {},
   "outputs": [],
   "source": [
    "driver = webdriver.Chrome()"
   ]
  },
  {
   "cell_type": "code",
   "execution_count": 61,
   "id": "d1e338f0-b4bb-4406-99a9-3ac735fe0ca1",
   "metadata": {},
   "outputs": [],
   "source": [
    "driver.get('https://www.flipkart.com/apple-iphone-11-black-64-gb/product-reviews/itm4e5041ba101fd?pid=MOBFWQ6BXGJCEYNY&lid=LSTMOBFWQ6BXGJCEYNYZXSHRJ&marketplace=FLIPKART')"
   ]
  },
  {
   "cell_type": "code",
   "execution_count": 62,
   "id": "0c508b7b-9c64-42d8-9721-9f4d9abee45f",
   "metadata": {},
   "outputs": [],
   "source": [
    "Rating = []\n",
    "Review_summary = []\n",
    "Full_review = []"
   ]
  },
  {
   "cell_type": "code",
   "execution_count": 66,
   "id": "758e7092-a2d3-4828-9df9-dcc5f364d89b",
   "metadata": {},
   "outputs": [],
   "source": [
    "# scrap first 100 data rating review  full review\n",
    "start = 0\n",
    "end = 10\n",
    "for page in range(start,end):\n",
    "#scrap i phone rating\n",
    "    rating_tags = driver.find_elements(By.XPATH,'//span[@class=\"Fig8YH\"]')\n",
    "    for i in rating_tags[0:100]:\n",
    "        Rating.append(i.text)\n",
    "\n",
    "# scrap first 100 i phone review\n",
    "review_sm_tags = driver.find_elements(By.XPATH,'//div[@class=\"row j-aW8Z\"]')\n",
    "for i in review_sm_tags[0:100]:\n",
    "    Review_summary.append(i.text)"
   ]
  },
  {
   "cell_type": "code",
   "execution_count": 64,
   "id": "18e0ac13-864e-4726-8461-8088318289a1",
   "metadata": {},
   "outputs": [
    {
     "data": {
      "text/plain": [
       "['5',\n",
       " '4',\n",
       " '3',\n",
       " '2',\n",
       " '1',\n",
       " '5',\n",
       " '4',\n",
       " '3',\n",
       " '2',\n",
       " '1',\n",
       " '5',\n",
       " '4',\n",
       " '3',\n",
       " '2',\n",
       " '1',\n",
       " '5',\n",
       " '4',\n",
       " '3',\n",
       " '2',\n",
       " '1',\n",
       " '5',\n",
       " '4',\n",
       " '3',\n",
       " '2',\n",
       " '1',\n",
       " '5',\n",
       " '4',\n",
       " '3',\n",
       " '2',\n",
       " '1',\n",
       " '5',\n",
       " '4',\n",
       " '3',\n",
       " '2',\n",
       " '1',\n",
       " '5',\n",
       " '4',\n",
       " '3',\n",
       " '2',\n",
       " '1',\n",
       " '5',\n",
       " '4',\n",
       " '3',\n",
       " '2',\n",
       " '1',\n",
       " '5',\n",
       " '4',\n",
       " '3',\n",
       " '2',\n",
       " '1']"
      ]
     },
     "execution_count": 64,
     "metadata": {},
     "output_type": "execute_result"
    }
   ],
   "source": [
    "Rating"
   ]
  },
  {
   "cell_type": "code",
   "execution_count": 67,
   "id": "0229b4bd-d3c3-4d68-84d5-4e6ddaf4cb1e",
   "metadata": {},
   "outputs": [
    {
     "data": {
      "text/plain": [
       "['2,05,287 Ratings &', '11,440 Reviews']"
      ]
     },
     "execution_count": 67,
     "metadata": {},
     "output_type": "execute_result"
    }
   ],
   "source": [
    "Review_summary"
   ]
  },
  {
   "cell_type": "code",
   "execution_count": null,
   "id": "011ea079-f4b7-427a-81b6-dcf598a8cff9",
   "metadata": {},
   "outputs": [],
   "source": []
  }
 ],
 "metadata": {
  "kernelspec": {
   "display_name": "Python 3 (ipykernel)",
   "language": "python",
   "name": "python3"
  },
  "language_info": {
   "codemirror_mode": {
    "name": "ipython",
    "version": 3
   },
   "file_extension": ".py",
   "mimetype": "text/x-python",
   "name": "python",
   "nbconvert_exporter": "python",
   "pygments_lexer": "ipython3",
   "version": "3.11.7"
  }
 },
 "nbformat": 4,
 "nbformat_minor": 5
}
